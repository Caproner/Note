{
 "cells": [
  {
   "cell_type": "markdown",
   "metadata": {},
   "source": [
    "# Pytorch基础\n",
    "\n",
    "Pytorch用于进行深度学习模型搭建。其支持与numpy中的ndarray相似的数据结构tensor，以及自动求导\n",
    "\n",
    "tensor可以与ndarray相互转换"
   ]
  },
  {
   "cell_type": "code",
   "execution_count": 18,
   "metadata": {},
   "outputs": [],
   "source": [
    "import numpy as np\n",
    "import torch"
   ]
  },
  {
   "cell_type": "code",
   "execution_count": 19,
   "metadata": {},
   "outputs": [
    {
     "data": {
      "text/plain": [
       "tensor([3.0000, 1.2000, 3.0000])"
      ]
     },
     "execution_count": 19,
     "metadata": {},
     "output_type": "execute_result"
    }
   ],
   "source": [
    "x = torch.tensor([3., 1.2, 3.])\n",
    "x"
   ]
  },
  {
   "cell_type": "code",
   "execution_count": 20,
   "metadata": {},
   "outputs": [
    {
     "data": {
      "text/plain": [
       "array([3. , 1.2, 3. ], dtype=float32)"
      ]
     },
     "execution_count": 20,
     "metadata": {},
     "output_type": "execute_result"
    }
   ],
   "source": [
    "x.numpy()"
   ]
  },
  {
   "cell_type": "markdown",
   "metadata": {},
   "source": [
    "tensor可以干numpy能干的几乎所有事情"
   ]
  },
  {
   "cell_type": "code",
   "execution_count": 21,
   "metadata": {},
   "outputs": [
    {
     "data": {
      "text/plain": [
       "tensor([1.7321, 1.0954, 1.7321])"
      ]
     },
     "execution_count": 21,
     "metadata": {},
     "output_type": "execute_result"
    }
   ],
   "source": [
    "torch.sqrt(x)"
   ]
  },
  {
   "cell_type": "markdown",
   "metadata": {},
   "source": [
    "如果需要改变参数自身的值，只需要在函数后面加下划线即可"
   ]
  },
  {
   "cell_type": "code",
   "execution_count": 22,
   "metadata": {},
   "outputs": [
    {
     "data": {
      "text/plain": [
       "tensor([3.0000, 1.2000, 3.0000])"
      ]
     },
     "execution_count": 22,
     "metadata": {},
     "output_type": "execute_result"
    }
   ],
   "source": [
    "x"
   ]
  },
  {
   "cell_type": "code",
   "execution_count": 23,
   "metadata": {},
   "outputs": [
    {
     "data": {
      "text/plain": [
       "tensor([1.7321, 1.0954, 1.7321])"
      ]
     },
     "execution_count": 23,
     "metadata": {},
     "output_type": "execute_result"
    }
   ],
   "source": [
    "torch.sqrt_(x)\n",
    "x"
   ]
  },
  {
   "cell_type": "markdown",
   "metadata": {},
   "source": [
    "## 自动求导\n",
    "\n",
    "Pytorch通过构造计算图来推导出反向求导图，从而实现自动求导\n",
    "\n",
    "其通过`requires_grad_()`方法来设置某个变量可导，然后通过`backward()`进行反向传导\n",
    "\n",
    "以下面的计算图为例：\n",
    "\n",
    "<img src=\"img/02_01.png\" />\n",
    "\n",
    "其代码实现如下："
   ]
  },
  {
   "cell_type": "code",
   "execution_count": 32,
   "metadata": {},
   "outputs": [
    {
     "name": "stdout",
     "output_type": "stream",
     "text": [
      "False\n",
      "True\n",
      "True\n",
      "True\n",
      "True\n"
     ]
    }
   ],
   "source": [
    "x = torch.Tensor([3.]) # 初始化常量x\n",
    "w = torch.randn(1, requires_grad = True) # 随机初始化待求导参数w\n",
    "b = torch.randn(1, requires_grad = True) # 随机初始化待求导参数b\n",
    "\n",
    "y = w * x\n",
    "z = y + b\n",
    "\n",
    "print(x.requires_grad)\n",
    "print(w.requires_grad)\n",
    "print(b.requires_grad)\n",
    "print(y.requires_grad)\n",
    "print(z.requires_grad)"
   ]
  },
  {
   "cell_type": "markdown",
   "metadata": {},
   "source": [
    "此时每个变量都可以看做是计算图中的一个节点\n",
    "\n",
    "此时查看每个节点的`grad_fn`："
   ]
  },
  {
   "cell_type": "code",
   "execution_count": 33,
   "metadata": {},
   "outputs": [
    {
     "name": "stdout",
     "output_type": "stream",
     "text": [
      "None\n",
      "None\n",
      "None\n",
      "<MulBackward0 object at 0x122433c50>\n",
      "<AddBackward0 object at 0x122433dd8>\n"
     ]
    }
   ],
   "source": [
    "print(x.grad_fn)\n",
    "print(w.grad_fn)\n",
    "print(b.grad_fn)\n",
    "print(y.grad_fn)\n",
    "print(z.grad_fn)"
   ]
  },
  {
   "cell_type": "markdown",
   "metadata": {},
   "source": [
    "可以看出其已经设置好了反向求导的梯度函数了\n",
    "\n",
    "于是其反向求导的计算图如下所示：\n",
    "\n",
    "<img src=\"img/02_02.png\" />\n",
    "\n",
    "此时对z求`backward()`的话就可以很轻松的得到z对每个标记了`requires_grad`的**叶子节点**的偏导了"
   ]
  },
  {
   "cell_type": "code",
   "execution_count": 34,
   "metadata": {},
   "outputs": [
    {
     "name": "stdout",
     "output_type": "stream",
     "text": [
      "None\n",
      "tensor([3.])\n",
      "tensor([1.])\n"
     ]
    }
   ],
   "source": [
    "z.backward()\n",
    "\n",
    "print(x.grad)\n",
    "print(w.grad)\n",
    "print(b.grad)"
   ]
  },
  {
   "cell_type": "markdown",
   "metadata": {},
   "source": [
    "## 使用Pytorch实现机器学习\n",
    "\n",
    "下面利用Pytorch的自动求导机制，手写一遍线性回归\n",
    "\n",
    "先生成训练数据："
   ]
  },
  {
   "cell_type": "code",
   "execution_count": 39,
   "metadata": {},
   "outputs": [
    {
     "data": {
      "image/png": "[encoded data removed]",
      "text/plain": [
       "<Figure size 432x288 with 1 Axes>"
      ]
     },
     "metadata": {
      "needs_background": "light"
     },
     "output_type": "display_data"
    }
   ],
   "source": [
    "from matplotlib import pyplot as plt\n",
    "\n",
    "x = torch.unsqueeze(torch.linspace(-1, 1, 100), dim = 1) # unsqueeze是为了让x转换成列向量\n",
    "y = 0.5 * x.pow(3) + 4 + 0.1 * torch.rand(x.size()) - 0.05 # 生成数据集y，并加一些噪音\n",
    "\n",
    "plt.scatter(x.numpy(), y.numpy())\n",
    "plt.show()"
   ]
  },
  {
   "cell_type": "markdown",
   "metadata": {},
   "source": [
    "下面假设x和y为训练数据，假设方程为`y=wx^3+b`，进行梯度下降："
   ]
  },
  {
   "cell_type": "code",
   "execution_count": 76,
   "metadata": {},
   "outputs": [
    {
     "name": "stdout",
     "output_type": "stream",
     "text": [
      "tensor([[0.4945]], requires_grad=True) tensor([[4.0025]], requires_grad=True)\n"
     ]
    },
    {
     "data": {
      "image/png": "[encoded data removed]",
      "text/plain": [
       "<Figure size 432x288 with 1 Axes>"
      ]
     },
     "metadata": {
      "needs_background": "light"
     },
     "output_type": "display_data"
    },
    {
     "data": {
      "image/png": "[encoded data removed]",
      "text/plain": [
       "<Figure size 432x288 with 1 Axes>"
      ]
     },
     "metadata": {
      "needs_background": "light"
     },
     "output_type": "display_data"
    }
   ],
   "source": [
    "# 初始化参数，记得设置requires_grad\n",
    "w = torch.randn(1, 1, dtype = torch.float, requires_grad = True) # w初始化为1*1的随机矩阵\n",
    "b = torch.zeros(1, 1, dtype = torch.float, requires_grad = True) # b初始化为1*1的全零矩阵\n",
    "\n",
    "# 初始化学习率\n",
    "lr = 0.001\n",
    "\n",
    "# 初始化损失函数记录列表\n",
    "loss_list = np.array([])\n",
    "\n",
    "# 迭代800次梯度下降\n",
    "for itr in range(800):\n",
    "    # 前向传播，定义损失函数loss\n",
    "    y_pred = x.pow(3) * w + b\n",
    "    loss = 0.5 * (y_pred - y) ** 2\n",
    "    loss = loss.sum()\n",
    "    \n",
    "    # 更新损失函数列表\n",
    "    loss_list = np.append(loss_list, loss.detach().numpy())\n",
    "    \n",
    "    # 自动计算梯度\n",
    "    loss.backward()\n",
    "    \n",
    "    # 手动更新参数，这里需要使用no_grad()，使上下文环境中切断自动求导的计算\n",
    "    with torch.no_grad():\n",
    "        w -= lr * w.grad\n",
    "        b -= lr * b.grad\n",
    "        \n",
    "    # 梯度清零\n",
    "    w.grad.zero_()\n",
    "    b.grad.zero_()\n",
    "    \n",
    "# 训练结果输出\n",
    "print(w, b)\n",
    "\n",
    "# 输出损失函数下降的末端图像\n",
    "plt.plot(np.arange(np.size(loss_list) - 450) + 450, loss_list[450:], 'r-')\n",
    "plt.show()\n",
    "\n",
    "y_pred = x.pow(3) * w + b\n",
    "plt.plot(x.numpy(), y_pred.detach().numpy(), 'r-', label='predict')\n",
    "plt.scatter(x.numpy(), y.numpy(), color='blue', marker='o', label='true')\n",
    "plt.legend()\n",
    "plt.show()"
   ]
  },
  {
   "cell_type": "code",
   "execution_count": null,
   "metadata": {},
   "outputs": [],
   "source": []
  }
 ],
 "metadata": {
  "kernelspec": {
   "display_name": "Python 3",
   "language": "python",
   "name": "python3"
  },
  "language_info": {
   "codemirror_mode": {
    "name": "ipython",
    "version": 3
   },
   "file_extension": ".py",
   "mimetype": "text/x-python",
   "name": "python",
   "nbconvert_exporter": "python",
   "pygments_lexer": "ipython3",
   "version": "3.6.8"
  }
 },
 "nbformat": 4,
 "nbformat_minor": 4
}
